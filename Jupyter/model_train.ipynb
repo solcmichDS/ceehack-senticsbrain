{
 "cells": [
  {
   "cell_type": "code",
   "execution_count": 1,
   "metadata": {},
   "outputs": [
    {
     "name": "stdout",
     "output_type": "stream",
     "text": [
      "/home/michal/.local/lib/python3.8/site-packages/cryptography/hazmat/backends/openssl/x509.py:14: CryptographyDeprecationWarning: This version of cryptography contains a temporary pyOpenSSL fallback path. Upgrade pyOpenSSL now.\n",
      "  warnings.warn(\n",
      "Collecting tensorflow_similarity\n",
      "  Downloading tensorflow_similarity-0.16.8-py3-none-any.whl (206 kB)\n",
      "\u001b[K     |████████████████████████████████| 206 kB 4.5 MB/s eta 0:00:01\n",
      "\u001b[?25hRequirement already satisfied: tqdm in /home/michal/.local/lib/python3.8/site-packages (from tensorflow_similarity) (4.64.0)\n",
      "Requirement already satisfied: Pillow in /home/michal/.local/lib/python3.8/site-packages (from tensorflow_similarity) (9.2.0)\n",
      "Requirement already satisfied: numpy in /home/michal/.local/lib/python3.8/site-packages (from tensorflow_similarity) (1.22.4)\n",
      "Collecting tensorflow-datasets>=4.2\n",
      "  Downloading tensorflow_datasets-4.7.0-py3-none-any.whl (4.7 MB)\n",
      "\u001b[K     |████████████████████████████████| 4.7 MB 33.6 MB/s eta 0:00:01\n",
      "\u001b[?25hRequirement already satisfied: tabulate in /home/michal/.local/lib/python3.8/site-packages (from tensorflow_similarity) (0.8.10)\n",
      "Requirement already satisfied: bokeh in /home/michal/.local/lib/python3.8/site-packages (from tensorflow_similarity) (2.4.3)\n",
      "Requirement already satisfied: matplotlib in /home/michal/.local/lib/python3.8/site-packages (from tensorflow_similarity) (3.5.2)\n",
      "Requirement already satisfied: pandas in /home/michal/.local/lib/python3.8/site-packages (from tensorflow_similarity) (1.4.3)\n",
      "Collecting umap-learn\n",
      "  Downloading umap-learn-0.5.3.tar.gz (88 kB)\n",
      "\u001b[K     |████████████████████████████████| 88 kB 15.1 MB/s eta 0:00:01\n",
      "\u001b[?25hCollecting nmslib\n",
      "  Downloading nmslib-2.1.1-cp38-cp38-manylinux2010_x86_64.whl (13.4 MB)\n",
      "\u001b[K     |████████████████████████████████| 13.4 MB 109 kB/s eta 0:00:011\n",
      "\u001b[?25hCollecting distinctipy\n",
      "  Downloading distinctipy-1.2.2-py3-none-any.whl (25 kB)\n",
      "Requirement already satisfied: requests>=2.19.0 in /usr/lib/python3/dist-packages (from tensorflow-datasets>=4.2->tensorflow_similarity) (2.22.0)\n",
      "Collecting tensorflow-metadata\n",
      "  Downloading tensorflow_metadata-1.11.0-py3-none-any.whl (52 kB)\n",
      "\u001b[K     |████████████████████████████████| 52 kB 3.7 MB/s  eta 0:00:01\n",
      "\u001b[?25hCollecting termcolor\n",
      "  Downloading termcolor-2.1.1-py3-none-any.whl (6.2 kB)\n",
      "Collecting etils[epath]\n",
      "  Downloading etils-0.9.0-py3-none-any.whl (140 kB)\n",
      "\u001b[K     |████████████████████████████████| 140 kB 39.1 MB/s eta 0:00:01\n",
      "\u001b[?25hCollecting promise\n",
      "  Downloading promise-2.3.tar.gz (19 kB)\n",
      "Requirement already satisfied: toml in /home/michal/.local/lib/python3.8/site-packages (from tensorflow-datasets>=4.2->tensorflow_similarity) (0.10.2)\n",
      "Requirement already satisfied: importlib-resources; python_version < \"3.9\" in /home/michal/.local/lib/python3.8/site-packages (from tensorflow-datasets>=4.2->tensorflow_similarity) (5.7.1)\n",
      "Requirement already satisfied: absl-py in /home/michal/.local/lib/python3.8/site-packages (from tensorflow-datasets>=4.2->tensorflow_similarity) (1.1.0)\n",
      "Collecting dill\n",
      "  Downloading dill-0.3.6-py3-none-any.whl (110 kB)\n",
      "\u001b[K     |████████████████████████████████| 110 kB 48.2 MB/s eta 0:00:01\n",
      "\u001b[?25hCollecting protobuf>=3.12.2\n",
      "  Downloading protobuf-4.21.9-cp37-abi3-manylinux2014_x86_64.whl (408 kB)\n",
      "\u001b[K     |████████████████████████████████| 408 kB 122.2 MB/s eta 0:00:01\n",
      "\u001b[?25hRequirement already satisfied: six in /usr/lib/python3/dist-packages (from tensorflow-datasets>=4.2->tensorflow_similarity) (1.14.0)\n",
      "Requirement already satisfied: Jinja2>=2.9 in /home/michal/.local/lib/python3.8/site-packages (from bokeh->tensorflow_similarity) (3.1.2)\n",
      "Requirement already satisfied: tornado>=5.1 in /home/michal/.local/lib/python3.8/site-packages (from bokeh->tensorflow_similarity) (6.1)\n",
      "Requirement already satisfied: packaging>=16.8 in /home/michal/.local/lib/python3.8/site-packages (from bokeh->tensorflow_similarity) (21.2)\n",
      "Requirement already satisfied: typing-extensions>=3.10.0 in /home/michal/.local/lib/python3.8/site-packages (from bokeh->tensorflow_similarity) (4.2.0)\n",
      "Requirement already satisfied: PyYAML>=3.10 in /home/michal/.local/lib/python3.8/site-packages (from bokeh->tensorflow_similarity) (6.0)\n",
      "Requirement already satisfied: kiwisolver>=1.0.1 in /home/michal/.local/lib/python3.8/site-packages (from matplotlib->tensorflow_similarity) (1.4.2)\n",
      "Requirement already satisfied: fonttools>=4.22.0 in /home/michal/.local/lib/python3.8/site-packages (from matplotlib->tensorflow_similarity) (4.33.3)\n",
      "Requirement already satisfied: pyparsing>=2.2.1 in /home/michal/.local/lib/python3.8/site-packages (from matplotlib->tensorflow_similarity) (2.4.7)\n",
      "Requirement already satisfied: cycler>=0.10 in /home/michal/.local/lib/python3.8/site-packages (from matplotlib->tensorflow_similarity) (0.11.0)\n",
      "Requirement already satisfied: python-dateutil>=2.7 in /home/michal/.local/lib/python3.8/site-packages (from matplotlib->tensorflow_similarity) (2.8.2)\n",
      "Requirement already satisfied: pytz>=2020.1 in /home/michal/.local/lib/python3.8/site-packages (from pandas->tensorflow_similarity) (2022.1)\n",
      "Requirement already satisfied: scikit-learn>=0.22 in /home/michal/.local/lib/python3.8/site-packages (from umap-learn->tensorflow_similarity) (1.1.1)\n",
      "Requirement already satisfied: scipy>=1.0 in /home/michal/.local/lib/python3.8/site-packages (from umap-learn->tensorflow_similarity) (1.8.1)\n",
      "Requirement already satisfied: numba>=0.49 in /home/michal/.local/lib/python3.8/site-packages (from umap-learn->tensorflow_similarity) (0.55.2)\n",
      "Collecting pynndescent>=0.5\n",
      "  Downloading pynndescent-0.5.8.tar.gz (1.1 MB)\n",
      "\u001b[K     |████████████████████████████████| 1.1 MB 139.9 MB/s eta 0:00:01\n",
      "\u001b[?25hCollecting pybind11<2.6.2\n",
      "  Downloading pybind11-2.6.1-py2.py3-none-any.whl (188 kB)\n",
      "\u001b[K     |████████████████████████████████| 188 kB 27.0 MB/s eta 0:00:01\n",
      "\u001b[?25hRequirement already satisfied: psutil in /home/michal/.local/lib/python3.8/site-packages (from nmslib->tensorflow_similarity) (5.9.1)\n",
      "Collecting googleapis-common-protos<2,>=1.52.0\n",
      "  Downloading googleapis_common_protos-1.57.0-py2.py3-none-any.whl (217 kB)\n",
      "\u001b[K     |████████████████████████████████| 217 kB 47.7 MB/s eta 0:00:01\n",
      "\u001b[?25hRequirement already satisfied: zipp; extra == \"epath\" in /home/michal/.local/lib/python3.8/site-packages (from etils[epath]->tensorflow-datasets>=4.2->tensorflow_similarity) (3.8.0)\n",
      "Requirement already satisfied: MarkupSafe>=2.0 in /home/michal/.local/lib/python3.8/site-packages (from Jinja2>=2.9->bokeh->tensorflow_similarity) (2.1.1)\n",
      "Requirement already satisfied: joblib>=1.0.0 in /home/michal/.local/lib/python3.8/site-packages (from scikit-learn>=0.22->umap-learn->tensorflow_similarity) (1.1.0)\n",
      "Requirement already satisfied: threadpoolctl>=2.0.0 in /home/michal/.local/lib/python3.8/site-packages (from scikit-learn>=0.22->umap-learn->tensorflow_similarity) (3.1.0)\n",
      "Requirement already satisfied: setuptools in /home/michal/.local/lib/python3.8/site-packages (from numba>=0.49->umap-learn->tensorflow_similarity) (65.5.0)\n",
      "Requirement already satisfied: llvmlite<0.39,>=0.38.0rc1 in /home/michal/.local/lib/python3.8/site-packages (from numba>=0.49->umap-learn->tensorflow_similarity) (0.38.1)\n",
      "Building wheels for collected packages: umap-learn, promise, pynndescent\n",
      "  Building wheel for umap-learn (setup.py) ... \u001b[?25ldone\n",
      "\u001b[?25h  Created wheel for umap-learn: filename=umap_learn-0.5.3-py3-none-any.whl size=82813 sha256=dd65e38a19c7c8b971b778d30dcae41222c94f267db325b0321282a39afdafb0\n",
      "  Stored in directory: /home/michal/.cache/pip/wheels/a9/3a/67/06a8950e053725912e6a8c42c4a3a241410f6487b8402542ea\n",
      "  Building wheel for promise (setup.py) ... \u001b[?25ldone\n",
      "\u001b[?25h  Created wheel for promise: filename=promise-2.3-py3-none-any.whl size=21485 sha256=4b724fb566a5854f0cba306fecff1b1c85308811ae1da88a4b4d125cdfd36971\n",
      "  Stored in directory: /home/michal/.cache/pip/wheels/54/aa/01/724885182f93150035a2a91bce34a12877e8067a97baaf5dc8\n",
      "  Building wheel for pynndescent (setup.py) ... \u001b[?25ldone\n",
      "\u001b[?25h  Created wheel for pynndescent: filename=pynndescent-0.5.8-py3-none-any.whl size=55497 sha256=2774da269c6d5b1507bac32b84fae02ef51cce66862ebe181de9aa0cbe5b4c19\n",
      "  Stored in directory: /home/michal/.cache/pip/wheels/1c/63/3a/29954bca1a27ba100ed8c27973a78cb71b43dc67aed62e80c3\n",
      "Successfully built umap-learn promise pynndescent\n",
      "\u001b[31mERROR: pytorch-lightning 1.6.4 has requirement protobuf<=3.20.1, but you'll have protobuf 4.21.9 which is incompatible.\u001b[0m\n",
      "\u001b[31mERROR: tensorflow-metadata 1.11.0 has requirement protobuf<4,>=3.13, but you'll have protobuf 4.21.9 which is incompatible.\u001b[0m\n",
      "Installing collected packages: protobuf, googleapis-common-protos, tensorflow-metadata, termcolor, etils, promise, dill, tensorflow-datasets, pynndescent, umap-learn, pybind11, nmslib, distinctipy, tensorflow-similarity\n",
      "Successfully installed dill-0.3.6 distinctipy-1.2.2 etils-0.9.0 googleapis-common-protos-1.57.0 nmslib-2.1.1 promise-2.3 protobuf-4.21.9 pybind11-2.6.1 pynndescent-0.5.8 tensorflow-datasets-4.7.0 tensorflow-metadata-1.11.0 tensorflow-similarity-0.16.8 termcolor-2.1.1 umap-learn-0.5.3\n",
      "Note: you may need to restart the kernel to use updated packages.\n"
     ]
    }
   ],
   "source": [
    "%pip install tensorflow_similarity"
   ]
  },
  {
   "cell_type": "code",
   "execution_count": 2,
   "metadata": {},
   "outputs": [
    {
     "name": "stdout",
     "output_type": "stream",
     "text": [
      "/home/michal/.local/lib/python3.8/site-packages/cryptography/hazmat/backends/openssl/x509.py:14: CryptographyDeprecationWarning: This version of cryptography contains a temporary pyOpenSSL fallback path. Upgrade pyOpenSSL now.\n",
      "  warnings.warn(\n",
      "Collecting tensorflow\n",
      "  Downloading tensorflow-2.11.0-cp38-cp38-manylinux_2_17_x86_64.manylinux2014_x86_64.whl (588.3 MB)\n",
      "\u001b[K     |████████████████████████████████| 588.3 MB 65 kB/s  eta 0:00:016  | 299.4 MB 1.6 MB/s eta 0:03:01��██            | 366.9 MB 11.5 MB/s eta 0:00:20��██▏     | 481.1 MB 20.5 MB/s eta 0:00:06 | 484.8 MB 826 kB/s eta 0:02:06 | 493.4 MB 821 kB/s eta 0:01:560 MB 891 kB/s eta 0:00:39\n",
      "\u001b[?25hCollecting h5py>=2.9.0\n",
      "  Downloading h5py-3.7.0-cp38-cp38-manylinux_2_12_x86_64.manylinux2010_x86_64.whl (4.5 MB)\n",
      "\u001b[K     |████████████████████████████████| 4.5 MB 22.5 MB/s eta 0:00:01\n",
      "\u001b[?25hRequirement already satisfied: packaging in /home/michal/.local/lib/python3.8/site-packages (from tensorflow) (21.2)\n",
      "Requirement already satisfied: numpy>=1.20 in /home/michal/.local/lib/python3.8/site-packages (from tensorflow) (1.22.4)\n",
      "Requirement already satisfied: typing-extensions>=3.6.6 in /home/michal/.local/lib/python3.8/site-packages (from tensorflow) (4.2.0)\n",
      "Collecting tensorboard<2.12,>=2.11\n",
      "  Downloading tensorboard-2.11.0-py3-none-any.whl (6.0 MB)\n",
      "\u001b[K     |████████████████████████████████| 6.0 MB 10.3 MB/s eta 0:00:01\n",
      "\u001b[?25hCollecting gast<=0.4.0,>=0.2.1\n",
      "  Downloading gast-0.4.0-py3-none-any.whl (9.8 kB)\n",
      "Collecting opt-einsum>=2.3.2\n",
      "  Downloading opt_einsum-3.3.0-py3-none-any.whl (65 kB)\n",
      "\u001b[K     |████████████████████████████████| 65 kB 1.1 MB/s  eta 0:00:01\n",
      "\u001b[?25hCollecting tensorflow-io-gcs-filesystem>=0.23.1; platform_machine != \"arm64\" or platform_system != \"Darwin\"\n",
      "  Downloading tensorflow_io_gcs_filesystem-0.28.0-cp38-cp38-manylinux_2_12_x86_64.manylinux2010_x86_64.whl (2.4 MB)\n",
      "\u001b[K     |████████████████████████████████| 2.4 MB 1.0 MB/s eta 0:00:01\n",
      "\u001b[?25hRequirement already satisfied: absl-py>=1.0.0 in /home/michal/.local/lib/python3.8/site-packages (from tensorflow) (1.1.0)\n",
      "Collecting protobuf<3.20,>=3.9.2\n",
      "  Downloading protobuf-3.19.6-cp38-cp38-manylinux_2_17_x86_64.manylinux2014_x86_64.whl (1.1 MB)\n",
      "\u001b[K     |████████████████████████████████| 1.1 MB 63.8 MB/s eta 0:00:01  | 655 kB 63.8 MB/s eta 0:00:01\n",
      "\u001b[?25hCollecting astunparse>=1.6.0\n",
      "  Downloading astunparse-1.6.3-py2.py3-none-any.whl (12 kB)\n",
      "Requirement already satisfied: six>=1.12.0 in /usr/lib/python3/dist-packages (from tensorflow) (1.14.0)\n",
      "Collecting tensorflow-estimator<2.12,>=2.11.0\n",
      "  Downloading tensorflow_estimator-2.11.0-py2.py3-none-any.whl (439 kB)\n",
      "\u001b[K     |████████████████████████████████| 439 kB 6.7 MB/s eta 0:00:01\n",
      "\u001b[?25hRequirement already satisfied: termcolor>=1.1.0 in /home/michal/.local/lib/python3.8/site-packages (from tensorflow) (2.1.1)\n",
      "Requirement already satisfied: wrapt>=1.11.0 in /usr/lib/python3/dist-packages (from tensorflow) (1.11.2)\n",
      "Collecting flatbuffers>=2.0\n",
      "  Downloading flatbuffers-22.11.23-py2.py3-none-any.whl (26 kB)\n",
      "Collecting libclang>=13.0.0\n",
      "  Downloading libclang-14.0.6-py2.py3-none-manylinux2010_x86_64.whl (14.1 MB)\n",
      "\u001b[K     |████████████████████████████████| 14.1 MB 1.2 MB/s  eta 0:00:01\n",
      "\u001b[?25hCollecting keras<2.12,>=2.11.0\n",
      "  Downloading keras-2.11.0-py2.py3-none-any.whl (1.7 MB)\n",
      "\u001b[K     |████████████████████████████████| 1.7 MB 97.5 MB/s eta 0:00:01\n",
      "\u001b[?25hRequirement already satisfied: grpcio<2.0,>=1.24.3 in /home/michal/.local/lib/python3.8/site-packages (from tensorflow) (1.46.3)\n",
      "Requirement already satisfied: setuptools in /home/michal/.local/lib/python3.8/site-packages (from tensorflow) (65.5.0)\n",
      "Collecting google-pasta>=0.1.1\n",
      "  Downloading google_pasta-0.2.0-py3-none-any.whl (57 kB)\n",
      "\u001b[K     |████████████████████████████████| 57 kB 14.8 MB/s eta 0:00:01\n",
      "\u001b[?25hRequirement already satisfied: pyparsing<3,>=2.0.2 in /home/michal/.local/lib/python3.8/site-packages (from packaging->tensorflow) (2.4.7)\n",
      "Requirement already satisfied: google-auth<3,>=1.6.3 in /home/michal/.local/lib/python3.8/site-packages (from tensorboard<2.12,>=2.11->tensorflow) (2.6.6)\n",
      "Requirement already satisfied: tensorboard-data-server<0.7.0,>=0.6.0 in /home/michal/.local/lib/python3.8/site-packages (from tensorboard<2.12,>=2.11->tensorflow) (0.6.1)\n",
      "Requirement already satisfied: werkzeug>=1.0.1 in /home/michal/.local/lib/python3.8/site-packages (from tensorboard<2.12,>=2.11->tensorflow) (2.1.2)\n",
      "Requirement already satisfied: wheel>=0.26 in /usr/lib/python3/dist-packages (from tensorboard<2.12,>=2.11->tensorflow) (0.34.2)\n",
      "Requirement already satisfied: google-auth-oauthlib<0.5,>=0.4.1 in /home/michal/.local/lib/python3.8/site-packages (from tensorboard<2.12,>=2.11->tensorflow) (0.4.6)\n",
      "Requirement already satisfied: markdown>=2.6.8 in /home/michal/.local/lib/python3.8/site-packages (from tensorboard<2.12,>=2.11->tensorflow) (3.3.7)\n",
      "Requirement already satisfied: requests<3,>=2.21.0 in /usr/lib/python3/dist-packages (from tensorboard<2.12,>=2.11->tensorflow) (2.22.0)\n",
      "Requirement already satisfied: tensorboard-plugin-wit>=1.6.0 in /home/michal/.local/lib/python3.8/site-packages (from tensorboard<2.12,>=2.11->tensorflow) (1.8.1)\n",
      "Requirement already satisfied: pyasn1-modules>=0.2.1 in /home/michal/.local/lib/python3.8/site-packages (from google-auth<3,>=1.6.3->tensorboard<2.12,>=2.11->tensorflow) (0.2.8)\n",
      "Requirement already satisfied: cachetools<6.0,>=2.0.0 in /home/michal/.local/lib/python3.8/site-packages (from google-auth<3,>=1.6.3->tensorboard<2.12,>=2.11->tensorflow) (5.2.0)\n",
      "Requirement already satisfied: rsa<5,>=3.1.4; python_version >= \"3.6\" in /home/michal/.local/lib/python3.8/site-packages (from google-auth<3,>=1.6.3->tensorboard<2.12,>=2.11->tensorflow) (4.8)\n",
      "Requirement already satisfied: requests-oauthlib>=0.7.0 in /home/michal/.local/lib/python3.8/site-packages (from google-auth-oauthlib<0.5,>=0.4.1->tensorboard<2.12,>=2.11->tensorflow) (1.3.1)\n",
      "Requirement already satisfied: importlib-metadata>=4.4; python_version < \"3.10\" in /home/michal/.local/lib/python3.8/site-packages (from markdown>=2.6.8->tensorboard<2.12,>=2.11->tensorflow) (4.11.4)\n",
      "Requirement already satisfied: pyasn1<0.5.0,>=0.4.6 in /home/michal/.local/lib/python3.8/site-packages (from pyasn1-modules>=0.2.1->google-auth<3,>=1.6.3->tensorboard<2.12,>=2.11->tensorflow) (0.4.8)\n",
      "Requirement already satisfied: oauthlib>=3.0.0 in /usr/lib/python3/dist-packages (from requests-oauthlib>=0.7.0->google-auth-oauthlib<0.5,>=0.4.1->tensorboard<2.12,>=2.11->tensorflow) (3.1.0)\n",
      "Requirement already satisfied: zipp>=0.5 in /home/michal/.local/lib/python3.8/site-packages (from importlib-metadata>=4.4; python_version < \"3.10\"->markdown>=2.6.8->tensorboard<2.12,>=2.11->tensorflow) (3.8.0)\n",
      "Installing collected packages: h5py, protobuf, tensorboard, gast, opt-einsum, tensorflow-io-gcs-filesystem, astunparse, tensorflow-estimator, flatbuffers, libclang, keras, google-pasta, tensorflow\n",
      "  Attempting uninstall: protobuf\n",
      "    Found existing installation: protobuf 4.21.9\n",
      "    Uninstalling protobuf-4.21.9:\n",
      "      Successfully uninstalled protobuf-4.21.9\n",
      "  Attempting uninstall: tensorboard\n",
      "    Found existing installation: tensorboard 2.9.0\n",
      "    Uninstalling tensorboard-2.9.0:\n",
      "      Successfully uninstalled tensorboard-2.9.0\n",
      "Successfully installed astunparse-1.6.3 flatbuffers-22.11.23 gast-0.4.0 google-pasta-0.2.0 h5py-3.7.0 keras-2.11.0 libclang-14.0.6 opt-einsum-3.3.0 protobuf-3.19.6 tensorboard-2.11.0 tensorflow-2.11.0 tensorflow-estimator-2.11.0 tensorflow-io-gcs-filesystem-0.28.0\n",
      "Note: you may need to restart the kernel to use updated packages.\n"
     ]
    }
   ],
   "source": [
    "%pip install tensorflow"
   ]
  },
  {
   "cell_type": "code",
   "execution_count": 2,
   "metadata": {},
   "outputs": [],
   "source": [
    "import tensorflow_similarity as tfsim\n",
    "import numpy as np\n",
    "import tensorflow as tf\n",
    "import pandas as pd\n",
    "import sklearn\n",
    "from sklearn.decomposition import PCA\n",
    "import matplotlib.pyplot as plt"
   ]
  },
  {
   "cell_type": "markdown",
   "metadata": {},
   "source": [
    "## Config"
   ]
  },
  {
   "cell_type": "code",
   "execution_count": 5,
   "metadata": {},
   "outputs": [],
   "source": [
    "BATCH_SIZE = 64\n",
    "NUM_EPOCHS = 20\n",
    "SHAPE = (2000,)\n",
    "TRAINING_SAMPLE_SIZE = 150000"
   ]
  },
  {
   "cell_type": "markdown",
   "metadata": {},
   "source": [
    "## Data"
   ]
  },
  {
   "cell_type": "markdown",
   "metadata": {},
   "source": [
    "df = pd.DataFrame()"
   ]
  },
  {
   "cell_type": "code",
   "execution_count": 6,
   "metadata": {},
   "outputs": [
    {
     "name": "stdout",
     "output_type": "stream",
     "text": [
      "Model: \"similarity_model\"\n",
      "_________________________________________________________________\n",
      " Layer (type)                Output Shape              Param #   \n",
      "=================================================================\n",
      " input_1 (InputLayer)        [(None, 2000)]            0         \n",
      "                                                                 \n",
      " batch_normalization (BatchN  (None, 2000)             8000      \n",
      " ormalization)                                                   \n",
      "                                                                 \n",
      " dense (Dense)               (None, 256)               512256    \n",
      "                                                                 \n",
      " dense_1 (Dense)             (None, 128)               32896     \n",
      "                                                                 \n",
      " metric_embedding (MetricEmb  (None, 64)               8256      \n",
      " edding)                                                         \n",
      "                                                                 \n",
      "=================================================================\n",
      "Total params: 561,408\n",
      "Trainable params: 557,408\n",
      "Non-trainable params: 4,000\n",
      "_________________________________________________________________\n"
     ]
    },
    {
     "name": "stderr",
     "output_type": "stream",
     "text": [
      "2022-11-27 01:29:58.281704: W tensorflow/compiler/xla/stream_executor/platform/default/dso_loader.cc:64] Could not load dynamic library 'libcuda.so.1'; dlerror: libcuda.so.1: cannot open shared object file: No such file or directory; LD_LIBRARY_PATH: :~/School/gurobi592/linux64/lib\n",
      "2022-11-27 01:29:58.281726: W tensorflow/compiler/xla/stream_executor/cuda/cuda_driver.cc:265] failed call to cuInit: UNKNOWN ERROR (303)\n",
      "2022-11-27 01:29:58.281740: I tensorflow/compiler/xla/stream_executor/cuda/cuda_diagnostics.cc:156] kernel driver does not appear to be running on this host (michal-Prestige-14-A11SCX): /proc/driver/nvidia/version does not exist\n",
      "2022-11-27 01:29:58.281926: I tensorflow/core/platform/cpu_feature_guard.cc:193] This TensorFlow binary is optimized with oneAPI Deep Neural Network Library (oneDNN) to use the following CPU instructions in performance-critical operations:  AVX2 AVX512F AVX512_VNNI FMA\n",
      "To enable them in other operations, rebuild TensorFlow with the appropriate compiler flags.\n"
     ]
    }
   ],
   "source": [
    "def get_model():\n",
    "    inputs = tf.keras.layers.Input(shape=SHAPE)\n",
    "    x = tf.keras.layers.BatchNormalization()(inputs)\n",
    "    x = tf.keras.layers.Dense(256)(x)\n",
    "    x = tf.keras.layers.Dense(128)(x)\n",
    "    outputs = tfsim.layers.MetricEmbedding(64)(x)\n",
    "    return tfsim.models.SimilarityModel(inputs, outputs)\n",
    "\n",
    "model = get_model()\n",
    "model.summary()"
   ]
  },
  {
   "cell_type": "code",
   "execution_count": null,
   "metadata": {},
   "outputs": [],
   "source": [
    "def get_compiled_model(lr=0.00005, distance = \"cosine\"):  # @param {type:\"number\"}\n",
    "    model = get_model()\n",
    "    loss = tfsim.losses.TripletLoss(distance=distance)\n",
    "    model.compile(optimizer=tf.keras.optimizers.Adam(lr), loss=loss)\n",
    "    return model"
   ]
  },
  {
   "cell_type": "code",
   "execution_count": null,
   "metadata": {},
   "outputs": [],
   "source": [
    "sampler = tfsim.samplers.MultiShotMemorySampler(df_train['slice'], df_train['id'], classes_per_batch=10, examples_per_class_per_batch=4)"
   ]
  },
  {
   "cell_type": "code",
   "execution_count": null,
   "metadata": {},
   "outputs": [],
   "source": [
    "model = get_compiled_model(lr=0.0001)\n",
    "hist = model.fit(sampler, \n",
    "                     steps_per_epoch=1000,\n",
    "                     epochs=40,\n",
    "                     verbose=2,)\n"
   ]
  },
  {
   "cell_type": "markdown",
   "metadata": {},
   "source": [
    "## Evaluate"
   ]
  },
  {
   "cell_type": "code",
   "execution_count": null,
   "metadata": {},
   "outputs": [],
   "source": [
    "def append_emebddings_to_df(df, model):\n",
    "    rv = []\n",
    "    for image_batch in np.array_split(df.slice, BATCH_SIZE):\n",
    "        images = np.vstack(image_batch)\n",
    "        dataset = tf.data.Dataset.from_tensor_slices(images).batch(BATCH_SIZE)\n",
    "        preds = model.predict(dataset)\n",
    "        rv.extend(preds)\n",
    "    df['embeddings'] = rv\n",
    "    return df"
   ]
  },
  {
   "cell_type": "code",
   "execution_count": null,
   "metadata": {},
   "outputs": [],
   "source": [
    "df_train_pandas = append_emebddings_to_df(df_train, model)"
   ]
  },
  {
   "cell_type": "code",
   "execution_count": null,
   "metadata": {},
   "outputs": [],
   "source": [
    "plt.rcParams[\"figure.figsize\"] = (20,13)\n",
    "df_pcad = visualize_pca_for_patients(df_train_pandas, n_patients=20, n_samples_per_patient=40)"
   ]
  }
 ],
 "metadata": {
  "kernelspec": {
   "display_name": "Python 3.8.10 64-bit",
   "language": "python",
   "name": "python3"
  },
  "language_info": {
   "codemirror_mode": {
    "name": "ipython",
    "version": 3
   },
   "file_extension": ".py",
   "mimetype": "text/x-python",
   "name": "python",
   "nbconvert_exporter": "python",
   "pygments_lexer": "ipython3",
   "version": "3.8.10"
  },
  "orig_nbformat": 4,
  "vscode": {
   "interpreter": {
    "hash": "916dbcbb3f70747c44a77c7bcd40155683ae19c65e1c03b4aa3499c5328201f1"
   }
  }
 },
 "nbformat": 4,
 "nbformat_minor": 2
}
